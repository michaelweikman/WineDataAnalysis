{
 "cells": [
  {
   "cell_type": "code",
   "execution_count": 1,
   "metadata": {},
   "outputs": [],
   "source": [
    "# Importing Libraries\n",
    "import matplotlib.pyplot as plt\n",
    "import pandas as pd\n",
    "import numpy as np\n",
    "import requests\n",
    "import os\n",
    "import random\n",
    "\n",
    "from scipy.stats import linregress"
   ]
  },
  {
   "cell_type": "code",
   "execution_count": 2,
   "metadata": {},
   "outputs": [
    {
     "name": "stdout",
     "output_type": "stream",
     "text": [
      "Downloading wine-reviews.zip to ../Resources\n",
      "\n"
     ]
    },
    {
     "name": "stderr",
     "output_type": "stream",
     "text": [
      "\n",
      "  0%|          | 0.00/50.9M [00:00<?, ?B/s]\n",
      "  2%|1         | 1.00M/50.9M [00:00<00:19, 2.72MB/s]\n",
      "  4%|3         | 2.00M/50.9M [00:00<00:15, 3.31MB/s]\n",
      "  6%|5         | 3.00M/50.9M [00:00<00:12, 3.91MB/s]\n",
      "  8%|7         | 4.00M/50.9M [00:00<00:10, 4.47MB/s]\n",
      " 10%|9         | 5.00M/50.9M [00:01<00:13, 3.63MB/s]\n",
      " 12%|#1        | 6.00M/50.9M [00:01<00:11, 4.05MB/s]\n",
      " 14%|#3        | 7.00M/50.9M [00:01<00:09, 4.70MB/s]\n",
      " 16%|#5        | 8.00M/50.9M [00:01<00:08, 5.21MB/s]\n",
      " 18%|#7        | 9.00M/50.9M [00:02<00:09, 4.65MB/s]\n",
      " 20%|#9        | 10.0M/50.9M [00:02<00:09, 4.31MB/s]\n",
      " 22%|##1       | 11.0M/50.9M [00:02<00:10, 3.96MB/s]\n",
      " 24%|##3       | 12.0M/50.9M [00:03<00:11, 3.52MB/s]\n",
      " 26%|##5       | 13.0M/50.9M [00:03<00:12, 3.22MB/s]\n",
      " 28%|##7       | 14.0M/50.9M [00:03<00:12, 3.08MB/s]\n",
      " 29%|##9       | 15.0M/50.9M [00:04<00:12, 2.98MB/s]\n",
      " 31%|###1      | 16.0M/50.9M [00:04<00:11, 3.17MB/s]\n",
      " 33%|###3      | 17.0M/50.9M [00:04<00:10, 3.53MB/s]\n",
      " 35%|###5      | 18.0M/50.9M [00:04<00:08, 3.97MB/s]\n",
      " 37%|###7      | 19.0M/50.9M [00:04<00:07, 4.52MB/s]\n",
      " 39%|###9      | 20.0M/50.9M [00:05<00:06, 5.01MB/s]\n",
      " 41%|####1     | 21.0M/50.9M [00:05<00:05, 5.37MB/s]\n",
      " 43%|####3     | 22.0M/50.9M [00:05<00:05, 5.56MB/s]\n",
      " 45%|####5     | 23.0M/50.9M [00:05<00:04, 5.98MB/s]\n",
      " 47%|####7     | 24.0M/50.9M [00:05<00:04, 6.17MB/s]\n",
      " 49%|####9     | 25.0M/50.9M [00:05<00:04, 6.15MB/s]\n",
      " 51%|#####1    | 26.0M/50.9M [00:06<00:04, 6.31MB/s]\n",
      " 53%|#####3    | 27.0M/50.9M [00:06<00:04, 6.07MB/s]\n",
      " 55%|#####5    | 28.0M/50.9M [00:06<00:03, 6.08MB/s]\n",
      " 57%|#####7    | 29.0M/50.9M [00:06<00:03, 5.77MB/s]\n",
      " 59%|#####8    | 30.0M/50.9M [00:06<00:03, 6.37MB/s]\n",
      " 61%|######    | 31.0M/50.9M [00:06<00:03, 6.24MB/s]\n",
      " 63%|######2   | 32.0M/50.9M [00:07<00:03, 6.02MB/s]\n",
      " 65%|######4   | 33.0M/50.9M [00:07<00:02, 6.52MB/s]\n",
      " 67%|######6   | 34.0M/50.9M [00:07<00:02, 6.39MB/s]\n",
      " 69%|######8   | 35.0M/50.9M [00:07<00:02, 6.29MB/s]\n",
      " 71%|#######   | 36.0M/50.9M [00:07<00:02, 6.60MB/s]\n",
      " 73%|#######2  | 37.0M/50.9M [00:07<00:02, 6.56MB/s]\n",
      " 75%|#######4  | 38.0M/50.9M [00:08<00:02, 6.55MB/s]\n",
      " 77%|#######6  | 39.0M/50.9M [00:08<00:02, 6.05MB/s]\n",
      " 79%|#######8  | 40.0M/50.9M [00:08<00:01, 6.75MB/s]\n",
      " 81%|########  | 41.0M/50.9M [00:08<00:01, 6.74MB/s]\n",
      " 83%|########2 | 42.0M/50.9M [00:08<00:01, 6.34MB/s]\n",
      " 85%|########4 | 43.0M/50.9M [00:08<00:01, 6.84MB/s]\n",
      " 87%|########6 | 44.0M/50.9M [00:09<00:01, 6.10MB/s]\n",
      " 88%|########8 | 45.0M/50.9M [00:09<00:00, 6.64MB/s]\n",
      " 90%|######### | 46.0M/50.9M [00:09<00:00, 5.94MB/s]\n",
      " 92%|#########2| 47.0M/50.9M [00:09<00:00, 6.22MB/s]\n",
      " 94%|#########4| 48.0M/50.9M [00:09<00:00, 5.63MB/s]\n",
      " 96%|#########6| 49.0M/50.9M [00:09<00:00, 6.44MB/s]\n",
      " 98%|#########8| 50.0M/50.9M [00:10<00:00, 5.99MB/s]\n",
      "100%|##########| 50.9M/50.9M [00:10<00:00, 6.12MB/s]\n",
      "100%|##########| 50.9M/50.9M [00:10<00:00, 5.19MB/s]\n"
     ]
    }
   ],
   "source": [
    "# Kaggle cmd will download zip to current file directory -kaggle.json in User folder .kaggle folder\n",
    "!kaggle datasets download -d zynicide/wine-reviews --force -p ../Resources"
   ]
  },
  {
   "cell_type": "code",
   "execution_count": 3,
   "metadata": {},
   "outputs": [],
   "source": [
    "# Unzip Kaggle Data\n",
    "import zipfile\n",
    "\n",
    "Dataset = \"wine-reviews\"\n",
    "\n",
    "# Will unzip the files so that you can see them..\n",
    "with zipfile.ZipFile(f\"../Resources/{Dataset}.zip\",\"r\") as z:\n",
    "    z.extractall(\"../Resources\")"
   ]
  },
  {
   "cell_type": "code",
   "execution_count": 4,
   "metadata": {},
   "outputs": [
    {
     "data": {
      "text/html": [
       "<div>\n",
       "<style scoped>\n",
       "    .dataframe tbody tr th:only-of-type {\n",
       "        vertical-align: middle;\n",
       "    }\n",
       "\n",
       "    .dataframe tbody tr th {\n",
       "        vertical-align: top;\n",
       "    }\n",
       "\n",
       "    .dataframe thead th {\n",
       "        text-align: right;\n",
       "    }\n",
       "</style>\n",
       "<table border=\"1\" class=\"dataframe\">\n",
       "  <thead>\n",
       "    <tr style=\"text-align: right;\">\n",
       "      <th></th>\n",
       "      <th>country</th>\n",
       "      <th>description</th>\n",
       "      <th>designation</th>\n",
       "      <th>points</th>\n",
       "      <th>price</th>\n",
       "      <th>province</th>\n",
       "      <th>region_1</th>\n",
       "      <th>region_2</th>\n",
       "      <th>taster_name</th>\n",
       "      <th>taster_twitter_handle</th>\n",
       "      <th>title</th>\n",
       "      <th>variety</th>\n",
       "      <th>winery</th>\n",
       "    </tr>\n",
       "  </thead>\n",
       "  <tbody>\n",
       "    <tr>\n",
       "      <td>0</td>\n",
       "      <td>Italy</td>\n",
       "      <td>Aromas include tropical fruit, broom, brimston...</td>\n",
       "      <td>Vulkà Bianco</td>\n",
       "      <td>87</td>\n",
       "      <td>NaN</td>\n",
       "      <td>Sicily &amp; Sardinia</td>\n",
       "      <td>Etna</td>\n",
       "      <td>NaN</td>\n",
       "      <td>Kerin O’Keefe</td>\n",
       "      <td>@kerinokeefe</td>\n",
       "      <td>Nicosia 2013 Vulkà Bianco  (Etna)</td>\n",
       "      <td>White Blend</td>\n",
       "      <td>Nicosia</td>\n",
       "    </tr>\n",
       "    <tr>\n",
       "      <td>1</td>\n",
       "      <td>Portugal</td>\n",
       "      <td>This is ripe and fruity, a wine that is smooth...</td>\n",
       "      <td>Avidagos</td>\n",
       "      <td>87</td>\n",
       "      <td>15.0</td>\n",
       "      <td>Douro</td>\n",
       "      <td>NaN</td>\n",
       "      <td>NaN</td>\n",
       "      <td>Roger Voss</td>\n",
       "      <td>@vossroger</td>\n",
       "      <td>Quinta dos Avidagos 2011 Avidagos Red (Douro)</td>\n",
       "      <td>Portuguese Red</td>\n",
       "      <td>Quinta dos Avidagos</td>\n",
       "    </tr>\n",
       "    <tr>\n",
       "      <td>2</td>\n",
       "      <td>US</td>\n",
       "      <td>Tart and snappy, the flavors of lime flesh and...</td>\n",
       "      <td>NaN</td>\n",
       "      <td>87</td>\n",
       "      <td>14.0</td>\n",
       "      <td>Oregon</td>\n",
       "      <td>Willamette Valley</td>\n",
       "      <td>Willamette Valley</td>\n",
       "      <td>Paul Gregutt</td>\n",
       "      <td>@paulgwine</td>\n",
       "      <td>Rainstorm 2013 Pinot Gris (Willamette Valley)</td>\n",
       "      <td>Pinot Gris</td>\n",
       "      <td>Rainstorm</td>\n",
       "    </tr>\n",
       "    <tr>\n",
       "      <td>3</td>\n",
       "      <td>US</td>\n",
       "      <td>Pineapple rind, lemon pith and orange blossom ...</td>\n",
       "      <td>Reserve Late Harvest</td>\n",
       "      <td>87</td>\n",
       "      <td>13.0</td>\n",
       "      <td>Michigan</td>\n",
       "      <td>Lake Michigan Shore</td>\n",
       "      <td>NaN</td>\n",
       "      <td>Alexander Peartree</td>\n",
       "      <td>NaN</td>\n",
       "      <td>St. Julian 2013 Reserve Late Harvest Riesling ...</td>\n",
       "      <td>Riesling</td>\n",
       "      <td>St. Julian</td>\n",
       "    </tr>\n",
       "    <tr>\n",
       "      <td>4</td>\n",
       "      <td>US</td>\n",
       "      <td>Much like the regular bottling from 2012, this...</td>\n",
       "      <td>Vintner's Reserve Wild Child Block</td>\n",
       "      <td>87</td>\n",
       "      <td>65.0</td>\n",
       "      <td>Oregon</td>\n",
       "      <td>Willamette Valley</td>\n",
       "      <td>Willamette Valley</td>\n",
       "      <td>Paul Gregutt</td>\n",
       "      <td>@paulgwine</td>\n",
       "      <td>Sweet Cheeks 2012 Vintner's Reserve Wild Child...</td>\n",
       "      <td>Pinot Noir</td>\n",
       "      <td>Sweet Cheeks</td>\n",
       "    </tr>\n",
       "  </tbody>\n",
       "</table>\n",
       "</div>"
      ],
      "text/plain": [
       "    country                                        description  \\\n",
       "0     Italy  Aromas include tropical fruit, broom, brimston...   \n",
       "1  Portugal  This is ripe and fruity, a wine that is smooth...   \n",
       "2        US  Tart and snappy, the flavors of lime flesh and...   \n",
       "3        US  Pineapple rind, lemon pith and orange blossom ...   \n",
       "4        US  Much like the regular bottling from 2012, this...   \n",
       "\n",
       "                          designation  points  price           province  \\\n",
       "0                        Vulkà Bianco      87    NaN  Sicily & Sardinia   \n",
       "1                            Avidagos      87   15.0              Douro   \n",
       "2                                 NaN      87   14.0             Oregon   \n",
       "3                Reserve Late Harvest      87   13.0           Michigan   \n",
       "4  Vintner's Reserve Wild Child Block      87   65.0             Oregon   \n",
       "\n",
       "              region_1           region_2         taster_name  \\\n",
       "0                 Etna                NaN       Kerin O’Keefe   \n",
       "1                  NaN                NaN          Roger Voss   \n",
       "2    Willamette Valley  Willamette Valley        Paul Gregutt   \n",
       "3  Lake Michigan Shore                NaN  Alexander Peartree   \n",
       "4    Willamette Valley  Willamette Valley        Paul Gregutt   \n",
       "\n",
       "  taster_twitter_handle                                              title  \\\n",
       "0          @kerinokeefe                  Nicosia 2013 Vulkà Bianco  (Etna)   \n",
       "1            @vossroger      Quinta dos Avidagos 2011 Avidagos Red (Douro)   \n",
       "2           @paulgwine       Rainstorm 2013 Pinot Gris (Willamette Valley)   \n",
       "3                   NaN  St. Julian 2013 Reserve Late Harvest Riesling ...   \n",
       "4           @paulgwine   Sweet Cheeks 2012 Vintner's Reserve Wild Child...   \n",
       "\n",
       "          variety               winery  \n",
       "0     White Blend              Nicosia  \n",
       "1  Portuguese Red  Quinta dos Avidagos  \n",
       "2      Pinot Gris            Rainstorm  \n",
       "3        Riesling           St. Julian  \n",
       "4      Pinot Noir         Sweet Cheeks  "
      ]
     },
     "execution_count": 4,
     "metadata": {},
     "output_type": "execute_result"
    }
   ],
   "source": [
    "# Reading csv and cleaning column names\n",
    "df = pd.read_csv('../Resources/winemag-data-130k-v2.csv')\n",
    "df.drop(['Unnamed: 0'], axis=1, inplace=True)\n",
    "df.head()"
   ]
  },
  {
   "cell_type": "code",
   "execution_count": 5,
   "metadata": {},
   "outputs": [],
   "source": [
    "# pandas drop a column with drop function\n",
    "df.drop(['taster_twitter_handle','taster_name'], axis=1, inplace=True)"
   ]
  },
  {
   "cell_type": "code",
   "execution_count": 6,
   "metadata": {},
   "outputs": [
    {
     "data": {
      "image/png": "[encoded data removed]",
      "text/plain": [
       "<Figure size 2160x720 with 1 Axes>"
      ]
     },
     "metadata": {
      "needs_background": "light"
     },
     "output_type": "display_data"
    }
   ],
   "source": [
    "# Create a Box Plot for the regions with rating and price\n",
    "import seaborn as sns\n",
    "\n",
    "fig, ax = plt.subplots(figsize=(30,10))\n",
    "sns.boxplot(x='points', y='price', data=df)\n",
    "plt.xticks(fontsize=20) # X Ticks\n",
    "plt.yticks(fontsize=20) # Y Ticks\n",
    "ax.set_title('Regions Rating with Price', fontweight=\"bold\", size=25) # Title\n",
    "ax.set_ylabel('Price Point', fontsize = 25) # Y label\n",
    "ax.set_xlabel('Rating Reviews', fontsize = 25) # X label\n",
    "\n",
    "# Save the figure\n",
    "plt.savefig(f\"../Analysis/png_output/boxplot\")\n",
    "\n",
    "plt.show()"
   ]
  },
  {
   "cell_type": "code",
   "execution_count": 7,
   "metadata": {},
   "outputs": [
    {
     "data": {
      "image/png": "[encoded data removed]",
      "text/plain": [
       "<Figure size 432x288 with 1 Axes>"
      ]
     },
     "metadata": {
      "needs_background": "light"
     },
     "output_type": "display_data"
    }
   ],
   "source": [
    "# Build a scatter plot the region against the price points\n",
    "plt.scatter(df[\"points\"], df[\"price\"], marker=\"o\", s=10)\n",
    "\n",
    "# Incorporate the other graph properties\n",
    "plt.title(\"Region against the price points\")\n",
    "plt.ylabel(\"Price\")\n",
    "plt.xlabel(\"Data Points\")\n",
    "plt.grid(True)\n",
    "\n",
    "# Save the figure\n",
    "plt.savefig(f\"../Analysis/png_output/provinceratingprice\")\n",
    "\n",
    "# Show plot\n",
    "plt.show()"
   ]
  },
  {
   "cell_type": "code",
   "execution_count": 10,
   "metadata": {},
   "outputs": [
    {
     "data": {
      "image/png": "[encoded data removed]",
      "text/plain": [
       "<Figure size 432x288 with 1 Axes>"
      ]
     },
     "metadata": {
      "needs_background": "light"
     },
     "output_type": "display_data"
    }
   ],
   "source": [
    "# sort by top countries\n",
    "country = df['country'].value_counts()\n",
    "country1 = country.iloc[0:4]\n",
    "\n",
    "# sort by the price\n",
    "price = df['price'].value_counts()\n",
    "price1 = price.iloc[0:4]\n",
    "\n",
    "# sort by the regions\n",
    "region = df['region_1'].value_counts()\n",
    "region1 = region.iloc[0:4]\n",
    "\n",
    "# Created a bar graph that show top 4 countries with it reviews\n",
    "country1.plot(kind='bar', color=['red', 'orange', 'green', 'blue'])\n",
    "\n",
    "# Give our chart some labels and a tile\n",
    "plt.title(\"Top 4 Countries with Reviews\")\n",
    "plt.xlabel(\"Country\")\n",
    "plt.ylabel(\"Reviews\")\n",
    "plt.savefig(f\"../Analysis/png_output/wine_base_on_countries\")\n",
    "plt.show()"
   ]
  },
  {
   "cell_type": "code",
   "execution_count": 11,
   "metadata": {},
   "outputs": [
    {
     "data": {
      "image/png": "[encoded data removed]",
      "text/plain": [
       "<Figure size 432x288 with 1 Axes>"
      ]
     },
     "metadata": {
      "needs_background": "light"
     },
     "output_type": "display_data"
    }
   ],
   "source": [
    "# Show a graph which wines that have reviews based on over $100\n",
    "price1.plot(kind ='barh', color=['red', 'orange', 'green', 'blue'])\n",
    "region1.plot(kind = 'barh', color=['red', 'orange', 'green', 'blue'])\n",
    "\n",
    "# Give our chart some labels and a tile\n",
    "plt.title(\"Wine Reviews based on Regions Over $100\")\n",
    "plt.xlabel(\"Points\")\n",
    "plt.ylabel(\"Regions\")\n",
    "plt.savefig(f\"../Analysis/png_output/Price_regions\")\n",
    "plt.show()"
   ]
  },
  {
   "cell_type": "code",
   "execution_count": 12,
   "metadata": {},
   "outputs": [],
   "source": [
    "# The maximum x value for our chart will be 50000\n",
    "x_limit = 50000\n",
    "\n",
    "# List of values from 0 to 50000 each value being 1 greater than the last\n",
    "x_axis = np.arange(0, x_limit, 1)\n",
    "\n",
    "# Create a random array of data that we will use for our y values\n",
    "data = [random.random() for value in x_axis]"
   ]
  },
  {
   "cell_type": "code",
   "execution_count": 13,
   "metadata": {},
   "outputs": [
    {
     "name": "stdout",
     "output_type": "stream",
     "text": [
      "<pandas.core.groupby.generic.DataFrameGroupBy object at 0x000001E7427F2DC8>\n"
     ]
    }
   ],
   "source": [
    "# Group by Country and Different regions\n",
    "grouped_df = df.groupby(['country'])\n",
    "\n",
    "# The object returned is a \"GroupBy\" object and cannot be viewed normally...\n",
    "print(grouped_df)"
   ]
  },
  {
   "cell_type": "code",
   "execution_count": 14,
   "metadata": {},
   "outputs": [
    {
     "name": "stdout",
     "output_type": "stream",
     "text": [
      "<pandas.core.groupby.generic.DataFrameGroupBy object at 0x000001E74280DDC8>\n"
     ]
    },
    {
     "data": {
      "text/html": [
       "<div>\n",
       "<style scoped>\n",
       "    .dataframe tbody tr th:only-of-type {\n",
       "        vertical-align: middle;\n",
       "    }\n",
       "\n",
       "    .dataframe tbody tr th {\n",
       "        vertical-align: top;\n",
       "    }\n",
       "\n",
       "    .dataframe thead th {\n",
       "        text-align: right;\n",
       "    }\n",
       "</style>\n",
       "<table border=\"1\" class=\"dataframe\">\n",
       "  <thead>\n",
       "    <tr style=\"text-align: right;\">\n",
       "      <th></th>\n",
       "      <th>country</th>\n",
       "      <th>description</th>\n",
       "      <th>designation</th>\n",
       "      <th>points</th>\n",
       "      <th>price</th>\n",
       "      <th>province</th>\n",
       "      <th>region_2</th>\n",
       "      <th>title</th>\n",
       "      <th>variety</th>\n",
       "      <th>winery</th>\n",
       "    </tr>\n",
       "    <tr>\n",
       "      <th>region_1</th>\n",
       "      <th></th>\n",
       "      <th></th>\n",
       "      <th></th>\n",
       "      <th></th>\n",
       "      <th></th>\n",
       "      <th></th>\n",
       "      <th></th>\n",
       "      <th></th>\n",
       "      <th></th>\n",
       "      <th></th>\n",
       "    </tr>\n",
       "  </thead>\n",
       "  <tbody>\n",
       "    <tr>\n",
       "      <td>Abruzzo</td>\n",
       "      <td>6</td>\n",
       "      <td>6</td>\n",
       "      <td>5</td>\n",
       "      <td>6</td>\n",
       "      <td>6</td>\n",
       "      <td>6</td>\n",
       "      <td>0</td>\n",
       "      <td>6</td>\n",
       "      <td>6</td>\n",
       "      <td>6</td>\n",
       "    </tr>\n",
       "    <tr>\n",
       "      <td>Adelaida District</td>\n",
       "      <td>110</td>\n",
       "      <td>110</td>\n",
       "      <td>91</td>\n",
       "      <td>110</td>\n",
       "      <td>110</td>\n",
       "      <td>110</td>\n",
       "      <td>110</td>\n",
       "      <td>110</td>\n",
       "      <td>110</td>\n",
       "      <td>110</td>\n",
       "    </tr>\n",
       "    <tr>\n",
       "      <td>Adelaide</td>\n",
       "      <td>16</td>\n",
       "      <td>16</td>\n",
       "      <td>15</td>\n",
       "      <td>16</td>\n",
       "      <td>16</td>\n",
       "      <td>16</td>\n",
       "      <td>0</td>\n",
       "      <td>16</td>\n",
       "      <td>16</td>\n",
       "      <td>16</td>\n",
       "    </tr>\n",
       "    <tr>\n",
       "      <td>Adelaide Hills</td>\n",
       "      <td>107</td>\n",
       "      <td>107</td>\n",
       "      <td>66</td>\n",
       "      <td>107</td>\n",
       "      <td>105</td>\n",
       "      <td>107</td>\n",
       "      <td>0</td>\n",
       "      <td>107</td>\n",
       "      <td>107</td>\n",
       "      <td>107</td>\n",
       "    </tr>\n",
       "    <tr>\n",
       "      <td>Adelaide Plains</td>\n",
       "      <td>4</td>\n",
       "      <td>4</td>\n",
       "      <td>0</td>\n",
       "      <td>4</td>\n",
       "      <td>4</td>\n",
       "      <td>4</td>\n",
       "      <td>0</td>\n",
       "      <td>4</td>\n",
       "      <td>4</td>\n",
       "      <td>4</td>\n",
       "    </tr>\n",
       "  </tbody>\n",
       "</table>\n",
       "</div>"
      ],
      "text/plain": [
       "                   country  description  designation  points  price  province  \\\n",
       "region_1                                                                        \n",
       "Abruzzo                  6            6            5       6      6         6   \n",
       "Adelaida District      110          110           91     110    110       110   \n",
       "Adelaide                16           16           15      16     16        16   \n",
       "Adelaide Hills         107          107           66     107    105       107   \n",
       "Adelaide Plains          4            4            0       4      4         4   \n",
       "\n",
       "                   region_2  title  variety  winery  \n",
       "region_1                                             \n",
       "Abruzzo                   0      6        6       6  \n",
       "Adelaida District       110    110      110     110  \n",
       "Adelaide                  0     16       16      16  \n",
       "Adelaide Hills            0    107      107     107  \n",
       "Adelaide Plains           0      4        4       4  "
      ]
     },
     "execution_count": 14,
     "metadata": {},
     "output_type": "execute_result"
    }
   ],
   "source": [
    "# Group by region 1\n",
    "grouped_df = df.groupby(['region_1'])\n",
    "\n",
    "# The object returned is a \"GroupBy\" object and cannot be viewed normally...\n",
    "print(grouped_df)\n",
    "\n",
    "# In order to be visualized, a data function must be used...\n",
    "grouped_df.count().head()"
   ]
  },
  {
   "cell_type": "code",
   "execution_count": 15,
   "metadata": {},
   "outputs": [
    {
     "name": "stdout",
     "output_type": "stream",
     "text": [
      "<pandas.core.groupby.generic.DataFrameGroupBy object at 0x000001E74282A108>\n"
     ]
    },
    {
     "data": {
      "text/html": [
       "<div>\n",
       "<style scoped>\n",
       "    .dataframe tbody tr th:only-of-type {\n",
       "        vertical-align: middle;\n",
       "    }\n",
       "\n",
       "    .dataframe tbody tr th {\n",
       "        vertical-align: top;\n",
       "    }\n",
       "\n",
       "    .dataframe thead th {\n",
       "        text-align: right;\n",
       "    }\n",
       "</style>\n",
       "<table border=\"1\" class=\"dataframe\">\n",
       "  <thead>\n",
       "    <tr style=\"text-align: right;\">\n",
       "      <th></th>\n",
       "      <th>country</th>\n",
       "      <th>description</th>\n",
       "      <th>designation</th>\n",
       "      <th>points</th>\n",
       "      <th>price</th>\n",
       "      <th>province</th>\n",
       "      <th>region_1</th>\n",
       "      <th>title</th>\n",
       "      <th>variety</th>\n",
       "      <th>winery</th>\n",
       "    </tr>\n",
       "    <tr>\n",
       "      <th>region_2</th>\n",
       "      <th></th>\n",
       "      <th></th>\n",
       "      <th></th>\n",
       "      <th></th>\n",
       "      <th></th>\n",
       "      <th></th>\n",
       "      <th></th>\n",
       "      <th></th>\n",
       "      <th></th>\n",
       "      <th></th>\n",
       "    </tr>\n",
       "  </thead>\n",
       "  <tbody>\n",
       "    <tr>\n",
       "      <td>California Other</td>\n",
       "      <td>2663</td>\n",
       "      <td>2663</td>\n",
       "      <td>1261</td>\n",
       "      <td>2663</td>\n",
       "      <td>2661</td>\n",
       "      <td>2663</td>\n",
       "      <td>2663</td>\n",
       "      <td>2663</td>\n",
       "      <td>2663</td>\n",
       "      <td>2663</td>\n",
       "    </tr>\n",
       "    <tr>\n",
       "      <td>Central Coast</td>\n",
       "      <td>11065</td>\n",
       "      <td>11065</td>\n",
       "      <td>7902</td>\n",
       "      <td>11065</td>\n",
       "      <td>10975</td>\n",
       "      <td>11065</td>\n",
       "      <td>11065</td>\n",
       "      <td>11065</td>\n",
       "      <td>11065</td>\n",
       "      <td>11065</td>\n",
       "    </tr>\n",
       "    <tr>\n",
       "      <td>Central Valley</td>\n",
       "      <td>1062</td>\n",
       "      <td>1062</td>\n",
       "      <td>678</td>\n",
       "      <td>1062</td>\n",
       "      <td>1058</td>\n",
       "      <td>1062</td>\n",
       "      <td>1062</td>\n",
       "      <td>1062</td>\n",
       "      <td>1062</td>\n",
       "      <td>1062</td>\n",
       "    </tr>\n",
       "    <tr>\n",
       "      <td>Columbia Valley</td>\n",
       "      <td>8103</td>\n",
       "      <td>8103</td>\n",
       "      <td>5572</td>\n",
       "      <td>8103</td>\n",
       "      <td>8058</td>\n",
       "      <td>8103</td>\n",
       "      <td>8103</td>\n",
       "      <td>8103</td>\n",
       "      <td>8103</td>\n",
       "      <td>8103</td>\n",
       "    </tr>\n",
       "    <tr>\n",
       "      <td>Finger Lakes</td>\n",
       "      <td>1777</td>\n",
       "      <td>1777</td>\n",
       "      <td>1232</td>\n",
       "      <td>1777</td>\n",
       "      <td>1768</td>\n",
       "      <td>1777</td>\n",
       "      <td>1777</td>\n",
       "      <td>1777</td>\n",
       "      <td>1777</td>\n",
       "      <td>1777</td>\n",
       "    </tr>\n",
       "  </tbody>\n",
       "</table>\n",
       "</div>"
      ],
      "text/plain": [
       "                  country  description  designation  points  price  province  \\\n",
       "region_2                                                                       \n",
       "California Other     2663         2663         1261    2663   2661      2663   \n",
       "Central Coast       11065        11065         7902   11065  10975     11065   \n",
       "Central Valley       1062         1062          678    1062   1058      1062   \n",
       "Columbia Valley      8103         8103         5572    8103   8058      8103   \n",
       "Finger Lakes         1777         1777         1232    1777   1768      1777   \n",
       "\n",
       "                  region_1  title  variety  winery  \n",
       "region_2                                            \n",
       "California Other      2663   2663     2663    2663  \n",
       "Central Coast        11065  11065    11065   11065  \n",
       "Central Valley        1062   1062     1062    1062  \n",
       "Columbia Valley       8103   8103     8103    8103  \n",
       "Finger Lakes          1777   1777     1777    1777  "
      ]
     },
     "execution_count": 15,
     "metadata": {},
     "output_type": "execute_result"
    }
   ],
   "source": [
    "# group by region 2\n",
    "grouped_df = df.groupby(['region_2'])\n",
    "\n",
    "# The object returned is a \"GroupBy\" object and cannot be viewed normally...\n",
    "print(grouped_df)\n",
    "\n",
    "# In order to be visualized, a data function must be used...\n",
    "grouped_df.count().head()"
   ]
  },
  {
   "cell_type": "code",
   "execution_count": 16,
   "metadata": {},
   "outputs": [
    {
     "data": {
      "text/html": [
       "<div>\n",
       "<style scoped>\n",
       "    .dataframe tbody tr th:only-of-type {\n",
       "        vertical-align: middle;\n",
       "    }\n",
       "\n",
       "    .dataframe tbody tr th {\n",
       "        vertical-align: top;\n",
       "    }\n",
       "\n",
       "    .dataframe thead th {\n",
       "        text-align: right;\n",
       "    }\n",
       "</style>\n",
       "<table border=\"1\" class=\"dataframe\">\n",
       "  <thead>\n",
       "    <tr style=\"text-align: right;\">\n",
       "      <th></th>\n",
       "      <th>region_1</th>\n",
       "    </tr>\n",
       "    <tr>\n",
       "      <th>country</th>\n",
       "      <th></th>\n",
       "    </tr>\n",
       "  </thead>\n",
       "  <tbody>\n",
       "    <tr>\n",
       "      <td>Argentina</td>\n",
       "      <td>3747</td>\n",
       "    </tr>\n",
       "    <tr>\n",
       "      <td>Armenia</td>\n",
       "      <td>0</td>\n",
       "    </tr>\n",
       "    <tr>\n",
       "      <td>Australia</td>\n",
       "      <td>2327</td>\n",
       "    </tr>\n",
       "    <tr>\n",
       "      <td>Austria</td>\n",
       "      <td>0</td>\n",
       "    </tr>\n",
       "    <tr>\n",
       "      <td>Bosnia and Herzegovina</td>\n",
       "      <td>0</td>\n",
       "    </tr>\n",
       "  </tbody>\n",
       "</table>\n",
       "</div>"
      ],
      "text/plain": [
       "                        region_1\n",
       "country                         \n",
       "Argentina                   3747\n",
       "Armenia                        0\n",
       "Australia                   2327\n",
       "Austria                        0\n",
       "Bosnia and Herzegovina         0"
      ]
     },
     "execution_count": 16,
     "metadata": {},
     "output_type": "execute_result"
    }
   ],
   "source": [
    "# group each regions for different countries\n",
    "group_country = pd.DataFrame(df.groupby('country')['region_1'].count())\n",
    "group_country.sort_values(by='region_1', ascending=False)\n",
    "group_country.head()"
   ]
  },
  {
   "cell_type": "code",
   "execution_count": 17,
   "metadata": {},
   "outputs": [
    {
     "data": {
      "image/png": "[encoded data removed]",
      "text/plain": [
       "<Figure size 432x288 with 1 Axes>"
      ]
     },
     "metadata": {},
     "output_type": "display_data"
    }
   ],
   "source": [
    "# Labels for the sections of our pie chart\n",
    "labels = [\"US\", \"France\", \"Italy\", \"Spain\"]\n",
    "\n",
    "# The values of each section of the pie chart\n",
    "sizes = [54226, 22017, 19513, 6637]\n",
    "\n",
    "# The colors of each section of the pie chart\n",
    "colors = [\"red\", \"orange\", \"lightcoral\", \"lightskyblue\", \"Yellow\", \"Purple\",\"Green\"]\n",
    "\n",
    "# Tells matplotlib to seperate the \"Humans\" section from the others\n",
    "explode = (0.1, 0, 0, 0)\n",
    "\n",
    "# Creates the pie chart based upon the values above\n",
    "# Automatically finds the percentages of each part of the pie chart\n",
    "plt.pie(sizes, explode=explode, labels=labels, colors=colors,\n",
    "        autopct=\"%1.1f%%\", shadow=True, startangle=140)\n",
    "plt.savefig(f\"../Analysis/png_output/piechartcountries\")\n",
    "plt.show()"
   ]
  },
  {
   "cell_type": "code",
   "execution_count": 18,
   "metadata": {},
   "outputs": [
    {
     "data": {
      "image/png": "[encoded data removed]",
      "text/plain": [
       "<Figure size 432x288 with 1 Axes>"
      ]
     },
     "metadata": {
      "needs_background": "light"
     },
     "output_type": "display_data"
    }
   ],
   "source": [
    "# Group by country and price\n",
    "df_price = df.groupby('price').count()\n",
    "df_price[df_price['country'] > 100]\n",
    "\n",
    "# region with price data points\n",
    "df_price = df.groupby('price').count()\n",
    "df_price_only = pd.DataFrame(df_price[df_price['country'] > 100] ['country']).rename(columns={'country':'Data Points'})\n",
    "df_price_only.plot(kind = 'line', color=['purple'])\n",
    "plt.savefig(f\"../Analysis/png_output/regionpricedatapoints\")\n",
    "plt.show()"
   ]
  },
  {
   "cell_type": "code",
   "execution_count": 19,
   "metadata": {},
   "outputs": [
    {
     "data": {
      "text/html": [
       "<div>\n",
       "<style scoped>\n",
       "    .dataframe tbody tr th:only-of-type {\n",
       "        vertical-align: middle;\n",
       "    }\n",
       "\n",
       "    .dataframe tbody tr th {\n",
       "        vertical-align: top;\n",
       "    }\n",
       "\n",
       "    .dataframe thead th {\n",
       "        text-align: right;\n",
       "    }\n",
       "</style>\n",
       "<table border=\"1\" class=\"dataframe\">\n",
       "  <thead>\n",
       "    <tr style=\"text-align: right;\">\n",
       "      <th></th>\n",
       "      <th>points</th>\n",
       "    </tr>\n",
       "    <tr>\n",
       "      <th>region_2</th>\n",
       "      <th></th>\n",
       "    </tr>\n",
       "  </thead>\n",
       "  <tbody>\n",
       "    <tr>\n",
       "      <td>California Other</td>\n",
       "      <td>2663</td>\n",
       "    </tr>\n",
       "    <tr>\n",
       "      <td>Central Coast</td>\n",
       "      <td>11065</td>\n",
       "    </tr>\n",
       "    <tr>\n",
       "      <td>Central Valley</td>\n",
       "      <td>1062</td>\n",
       "    </tr>\n",
       "    <tr>\n",
       "      <td>Columbia Valley</td>\n",
       "      <td>8103</td>\n",
       "    </tr>\n",
       "    <tr>\n",
       "      <td>Finger Lakes</td>\n",
       "      <td>1777</td>\n",
       "    </tr>\n",
       "  </tbody>\n",
       "</table>\n",
       "</div>"
      ],
      "text/plain": [
       "                  points\n",
       "region_2                \n",
       "California Other    2663\n",
       "Central Coast      11065\n",
       "Central Valley      1062\n",
       "Columbia Valley     8103\n",
       "Finger Lakes        1777"
      ]
     },
     "execution_count": 19,
     "metadata": {},
     "output_type": "execute_result"
    }
   ],
   "source": [
    "group_region = pd.DataFrame(df.groupby('region_2')['points'].count())\n",
    "group_region.sort_values(by='points', ascending=False)\n",
    "group_region.head()"
   ]
  },
  {
   "cell_type": "code",
   "execution_count": 20,
   "metadata": {},
   "outputs": [
    {
     "data": {
      "image/png": "[encoded data removed]",
      "text/plain": [
       "<Figure size 432x288 with 1 Axes>"
      ]
     },
     "metadata": {
      "needs_background": "light"
     },
     "output_type": "display_data"
    }
   ],
   "source": [
    "# Wine points for region 2\n",
    "group_region.plot(kind ='barh', color=['blue'])\n",
    "\n",
    "# Give our chart some labels and a tile\n",
    "plt.title(\"Wine Points for Region 2\")\n",
    "plt.xlabel(\"Points\")\n",
    "plt.ylabel(\"Regions\")\n",
    "plt.savefig(f\"../Analysis/png_output/winepointsregion2\")\n",
    "plt.show()"
   ]
  },
  {
   "cell_type": "code",
   "execution_count": 21,
   "metadata": {},
   "outputs": [
    {
     "data": {
      "image/png": "[encoded data removed]",
      "text/plain": [
       "<Figure size 432x288 with 1 Axes>"
      ]
     },
     "metadata": {
      "needs_background": "light"
     },
     "output_type": "display_data"
    }
   ],
   "source": [
    "# Sort by each province to find the output\n",
    "province = df['province'].value_counts()\n",
    "province = province.iloc[0:5]\n",
    "\n",
    "# Chart provinces by wine data set\n",
    "province.plot(kind ='bar', color=['blue', 'orange', 'green', 'red', 'purple'])\n",
    "\n",
    "# Give our chart some labels and a tile\n",
    "plt.title(\"Wine Data Points by each provinces\")\n",
    "plt.xlabel(\"Regions\")\n",
    "plt.ylabel(\"Points\")\n",
    "plt.savefig(f\"../Analysis/png_output/eachprovinces\")\n",
    "plt.show()"
   ]
  },
  {
   "cell_type": "code",
   "execution_count": 22,
   "metadata": {},
   "outputs": [
    {
     "data": {
      "image/png": "[encoded data removed]",
      "text/plain": [
       "<Figure size 432x288 with 1 Axes>"
      ]
     },
     "metadata": {
      "needs_background": "light"
     },
     "output_type": "display_data"
    }
   ],
   "source": [
    "# each regions that show it reviews by data points\n",
    "df['region_1'].value_counts().to_frame().head(5).plot(kind='barh', color=['purple'])\n",
    "plt.xlabel('Rating')\n",
    "plt.ylabel('Regions')\n",
    "plt.title(\"Wine Data Points by each provinces\")\n",
    "plt.savefig(f\"../Analysis/png_output/winepointprovinces\")\n",
    "plt.show()"
   ]
  },
  {
   "cell_type": "code",
   "execution_count": null,
   "metadata": {},
   "outputs": [],
   "source": []
  }
 ],
 "metadata": {
  "kernelspec": {
   "display_name": "Python 3",
   "language": "python",
   "name": "python3"
  },
  "language_info": {
   "codemirror_mode": {
    "name": "ipython",
    "version": 3
   },
   "file_extension": ".py",
   "mimetype": "text/x-python",
   "name": "python",
   "nbconvert_exporter": "python",
   "pygments_lexer": "ipython3",
   "version": "3.7.4"
  }
 },
 "nbformat": 4,
 "nbformat_minor": 4
}
